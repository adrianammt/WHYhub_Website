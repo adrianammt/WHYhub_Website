{
  "nbformat": 4,
  "nbformat_minor": 0,
  "metadata": {
    "colab": {
      "provenance": [],
      "authorship_tag": "ABX9TyMTxATBssT1wtiYymvcvMtK",
      "include_colab_link": true
    },
    "kernelspec": {
      "name": "python3",
      "display_name": "Python 3"
    },
    "language_info": {
      "name": "python"
    }
  },
  "cells": [
    {
      "cell_type": "markdown",
      "metadata": {
        "id": "view-in-github",
        "colab_type": "text"
      },
      "source": [
        "<a href=\"https://colab.research.google.com/github/adrianammt/WHYhub_Website/blob/main/timeSeriesForecasting.ipynb\" target=\"_parent\"><img src=\"https://colab.research.google.com/assets/colab-badge.svg\" alt=\"Open In Colab\"/></a>"
      ]
    },
    {
      "cell_type": "code",
      "execution_count": null,
      "metadata": {
        "id": "p_boWT-mRBHN"
      },
      "outputs": [],
      "source": [
        "import pandas as pd\n"
      ]
    },
    {
      "cell_type": "code",
      "source": [
        "df = pd.read_csv(\"charging_data.csv\")"
      ],
      "metadata": {
        "id": "-ZszgLTIUhY0"
      },
      "execution_count": null,
      "outputs": []
    },
    {
      "cell_type": "code",
      "source": [
        "#INFO 1 ----------\n",
        "\n",
        "#The number of charging stations through the years\n",
        "\n",
        "df[[\"Jahr\", \"Monat\",\"Tag\"]] = df[\"inbetriebnahmedatum\"].str.split(\"-\",expand=True)"
      ],
      "metadata": {
        "id": "Vp1L23IAWUnK"
      },
      "execution_count": null,
      "outputs": []
    },
    {
      "cell_type": "code",
      "source": [
        "df.groupby(\"Jahr\")[\"anzahl_ladepunkte\"].sum()"
      ],
      "metadata": {
        "colab": {
          "base_uri": "https://localhost:8080/"
        },
        "id": "QRi_THqrZ7hE",
        "outputId": "1498ef8e-7454-47a9-c495-55325876ee9e"
      },
      "execution_count": null,
      "outputs": [
        {
          "output_type": "execute_result",
          "data": {
            "text/plain": [
              "Jahr\n",
              "1992        1\n",
              "2001        3\n",
              "2007        3\n",
              "2008        2\n",
              "2009      103\n",
              "2010      142\n",
              "2011      402\n",
              "2012      360\n",
              "2013      262\n",
              "2014      494\n",
              "2015     1027\n",
              "2016     2224\n",
              "2017     3677\n",
              "2018     7487\n",
              "2019     9499\n",
              "2020    10707\n",
              "2021    14817\n",
              "2022    17837\n",
              "2023     2216\n",
              "Name: anzahl_ladepunkte, dtype: int64"
            ]
          },
          "metadata": {},
          "execution_count": 10
        }
      ]
    },
    {
      "cell_type": "code",
      "source": [
        "#Question: Why did it stop growing from 2022 to 2023? Is this the same behaviour for all betreiber?"
      ],
      "metadata": {
        "id": "HlI-L3gRCK0I"
      },
      "execution_count": null,
      "outputs": []
    },
    {
      "cell_type": "code",
      "source": [
        "#INFO 2 ----------\n",
        "\n",
        "#Time series forecasting - is the task of predicting future values based on historical data. Here I need to decide on a forecasting model.\n",
        "#My idea is to use ARIMA model. https://www.kdnuggets.com/2023/08/times-series-analysis-arima-models-python.html\n",
        "\n"
      ],
      "metadata": {
        "id": "Rih61bO1hS9C"
      },
      "execution_count": null,
      "outputs": []
    },
    {
      "cell_type": "code",
      "source": [
        "#INFO 3 ----------\n",
        "\n",
        "#Here I tried to make a Pareto Chart of the 20% Companies that have 80% of the total number of charging stations\n",
        "\n",
        "#Import libraries\n",
        "import matplotlib.pyplot as plt\n",
        "from matplotlib.ticker import PercentFormatter"
      ],
      "metadata": {
        "id": "TQeHZuGh_5RM"
      },
      "execution_count": null,
      "outputs": []
    },
    {
      "cell_type": "code",
      "source": [
        "#create a new df with only the data I need\n",
        "newdf = df.groupby(\"betreiber\")[\"anzahl_ladepunkte\"].sum().sort_values(ascending=False).to_frame()"
      ],
      "metadata": {
        "id": "H-hcRik1dRDP"
      },
      "execution_count": 42,
      "outputs": []
    },
    {
      "cell_type": "code",
      "source": [
        "#print(newdf)"
      ],
      "metadata": {
        "id": "gG3yhEX_4QsV"
      },
      "execution_count": 49,
      "outputs": []
    },
    {
      "cell_type": "code",
      "source": [
        "newdf.transpose()"
      ],
      "metadata": {
        "colab": {
          "base_uri": "https://localhost:8080/",
          "height": 180
        },
        "id": "9UPlSJWe9DLN",
        "outputId": "8ada4d4a-788d-45df-eff6-b26fb526e582"
      },
      "execution_count": 43,
      "outputs": [
        {
          "output_type": "execute_result",
          "data": {
            "text/plain": [
              "betreiber          EnBW mobility+ AG und Co.KG  E.ON Drive GmbH  EWE Go GmbH  \\\n",
              "anzahl_ladepunkte                         4064             2789         1806   \n",
              "\n",
              "betreiber          Mercedes-Benz AG  Westenergie Metering GmbH  \\\n",
              "anzahl_ladepunkte              1621                       1514   \n",
              "\n",
              "betreiber          Stromnetz Hamburg GmbH  ALDI SÜD  SWM Versorgungs GmbH  \\\n",
              "anzahl_ladepunkte                    1410      1223                  1196   \n",
              "\n",
              "betreiber          Lidl  Allego GmbH  ...  Paul Klingelhöfer GmbH  \\\n",
              "anzahl_ladepunkte  1134         1081  ...                       1   \n",
              "\n",
              "betreiber          Autohaus Oelmaier GmbH  Gemeindewerke Halstenbek  \\\n",
              "anzahl_ladepunkte                       1                         1   \n",
              "\n",
              "betreiber          Autohaus Nobis e.K.  Autohaus Müller Wurzen GmbH  \\\n",
              "anzahl_ladepunkte                    1                            1   \n",
              "\n",
              "betreiber          Autohaus Müller Reudnitz GmbH  \\\n",
              "anzahl_ladepunkte                              1   \n",
              "\n",
              "betreiber          Genusshotel Wenisch GmbH & Co. KG  Geo4mation GmbH  \\\n",
              "anzahl_ladepunkte                                  1                1   \n",
              "\n",
              "betreiber          Gerald Bartke GmbH  Citropart  \n",
              "anzahl_ladepunkte                   1          1  \n",
              "\n",
              "[1 rows x 4772 columns]"
            ],
            "text/html": [
              "\n",
              "  <div id=\"df-82e9664c-1e44-4a33-b889-8ef7228337d2\" class=\"colab-df-container\">\n",
              "    <div>\n",
              "<style scoped>\n",
              "    .dataframe tbody tr th:only-of-type {\n",
              "        vertical-align: middle;\n",
              "    }\n",
              "\n",
              "    .dataframe tbody tr th {\n",
              "        vertical-align: top;\n",
              "    }\n",
              "\n",
              "    .dataframe thead th {\n",
              "        text-align: right;\n",
              "    }\n",
              "</style>\n",
              "<table border=\"1\" class=\"dataframe\">\n",
              "  <thead>\n",
              "    <tr style=\"text-align: right;\">\n",
              "      <th>betreiber</th>\n",
              "      <th>EnBW mobility+ AG und Co.KG</th>\n",
              "      <th>E.ON Drive GmbH</th>\n",
              "      <th>EWE Go GmbH</th>\n",
              "      <th>Mercedes-Benz AG</th>\n",
              "      <th>Westenergie Metering GmbH</th>\n",
              "      <th>Stromnetz Hamburg GmbH</th>\n",
              "      <th>ALDI SÜD</th>\n",
              "      <th>SWM Versorgungs GmbH</th>\n",
              "      <th>Lidl</th>\n",
              "      <th>Allego GmbH</th>\n",
              "      <th>...</th>\n",
              "      <th>Paul Klingelhöfer GmbH</th>\n",
              "      <th>Autohaus Oelmaier GmbH</th>\n",
              "      <th>Gemeindewerke Halstenbek</th>\n",
              "      <th>Autohaus Nobis e.K.</th>\n",
              "      <th>Autohaus Müller Wurzen GmbH</th>\n",
              "      <th>Autohaus Müller Reudnitz GmbH</th>\n",
              "      <th>Genusshotel Wenisch GmbH &amp; Co. KG</th>\n",
              "      <th>Geo4mation GmbH</th>\n",
              "      <th>Gerald Bartke GmbH</th>\n",
              "      <th>Citropart</th>\n",
              "    </tr>\n",
              "  </thead>\n",
              "  <tbody>\n",
              "    <tr>\n",
              "      <th>anzahl_ladepunkte</th>\n",
              "      <td>4064</td>\n",
              "      <td>2789</td>\n",
              "      <td>1806</td>\n",
              "      <td>1621</td>\n",
              "      <td>1514</td>\n",
              "      <td>1410</td>\n",
              "      <td>1223</td>\n",
              "      <td>1196</td>\n",
              "      <td>1134</td>\n",
              "      <td>1081</td>\n",
              "      <td>...</td>\n",
              "      <td>1</td>\n",
              "      <td>1</td>\n",
              "      <td>1</td>\n",
              "      <td>1</td>\n",
              "      <td>1</td>\n",
              "      <td>1</td>\n",
              "      <td>1</td>\n",
              "      <td>1</td>\n",
              "      <td>1</td>\n",
              "      <td>1</td>\n",
              "    </tr>\n",
              "  </tbody>\n",
              "</table>\n",
              "<p>1 rows × 4772 columns</p>\n",
              "</div>\n",
              "    <div class=\"colab-df-buttons\">\n",
              "\n",
              "  <div class=\"colab-df-container\">\n",
              "    <button class=\"colab-df-convert\" onclick=\"convertToInteractive('df-82e9664c-1e44-4a33-b889-8ef7228337d2')\"\n",
              "            title=\"Convert this dataframe to an interactive table.\"\n",
              "            style=\"display:none;\">\n",
              "\n",
              "  <svg xmlns=\"http://www.w3.org/2000/svg\" height=\"24px\" viewBox=\"0 -960 960 960\">\n",
              "    <path d=\"M120-120v-720h720v720H120Zm60-500h600v-160H180v160Zm220 220h160v-160H400v160Zm0 220h160v-160H400v160ZM180-400h160v-160H180v160Zm440 0h160v-160H620v160ZM180-180h160v-160H180v160Zm440 0h160v-160H620v160Z\"/>\n",
              "  </svg>\n",
              "    </button>\n",
              "\n",
              "  <style>\n",
              "    .colab-df-container {\n",
              "      display:flex;\n",
              "      gap: 12px;\n",
              "    }\n",
              "\n",
              "    .colab-df-convert {\n",
              "      background-color: #E8F0FE;\n",
              "      border: none;\n",
              "      border-radius: 50%;\n",
              "      cursor: pointer;\n",
              "      display: none;\n",
              "      fill: #1967D2;\n",
              "      height: 32px;\n",
              "      padding: 0 0 0 0;\n",
              "      width: 32px;\n",
              "    }\n",
              "\n",
              "    .colab-df-convert:hover {\n",
              "      background-color: #E2EBFA;\n",
              "      box-shadow: 0px 1px 2px rgba(60, 64, 67, 0.3), 0px 1px 3px 1px rgba(60, 64, 67, 0.15);\n",
              "      fill: #174EA6;\n",
              "    }\n",
              "\n",
              "    .colab-df-buttons div {\n",
              "      margin-bottom: 4px;\n",
              "    }\n",
              "\n",
              "    [theme=dark] .colab-df-convert {\n",
              "      background-color: #3B4455;\n",
              "      fill: #D2E3FC;\n",
              "    }\n",
              "\n",
              "    [theme=dark] .colab-df-convert:hover {\n",
              "      background-color: #434B5C;\n",
              "      box-shadow: 0px 1px 3px 1px rgba(0, 0, 0, 0.15);\n",
              "      filter: drop-shadow(0px 1px 2px rgba(0, 0, 0, 0.3));\n",
              "      fill: #FFFFFF;\n",
              "    }\n",
              "  </style>\n",
              "\n",
              "    <script>\n",
              "      const buttonEl =\n",
              "        document.querySelector('#df-82e9664c-1e44-4a33-b889-8ef7228337d2 button.colab-df-convert');\n",
              "      buttonEl.style.display =\n",
              "        google.colab.kernel.accessAllowed ? 'block' : 'none';\n",
              "\n",
              "      async function convertToInteractive(key) {\n",
              "        const element = document.querySelector('#df-82e9664c-1e44-4a33-b889-8ef7228337d2');\n",
              "        const dataTable =\n",
              "          await google.colab.kernel.invokeFunction('convertToInteractive',\n",
              "                                                    [key], {});\n",
              "        if (!dataTable) return;\n",
              "\n",
              "        const docLinkHtml = 'Like what you see? Visit the ' +\n",
              "          '<a target=\"_blank\" href=https://colab.research.google.com/notebooks/data_table.ipynb>data table notebook</a>'\n",
              "          + ' to learn more about interactive tables.';\n",
              "        element.innerHTML = '';\n",
              "        dataTable['output_type'] = 'display_data';\n",
              "        await google.colab.output.renderOutput(dataTable, element);\n",
              "        const docLink = document.createElement('div');\n",
              "        docLink.innerHTML = docLinkHtml;\n",
              "        element.appendChild(docLink);\n",
              "      }\n",
              "    </script>\n",
              "  </div>\n",
              "\n",
              "    </div>\n",
              "  </div>\n"
            ],
            "application/vnd.google.colaboratory.intrinsic+json": {
              "type": "dataframe"
            }
          },
          "metadata": {},
          "execution_count": 43
        }
      ]
    },
    {
      "cell_type": "code",
      "source": [
        "newdf[\"cum_percentage\"] = round(newdf[\"anzahl_ladepunkte\"].cumsum()/newdf[\"anzahl_ladepunkte\"].sum()*100,2)"
      ],
      "metadata": {
        "id": "i0WuOaiR9MSc"
      },
      "execution_count": 44,
      "outputs": []
    },
    {
      "cell_type": "code",
      "source": [
        "print(newdf)"
      ],
      "metadata": {
        "colab": {
          "base_uri": "https://localhost:8080/"
        },
        "id": "SQbiaPaf9pzj",
        "outputId": "8e019277-e2a4-4c35-c796-8ddf0da73b2d"
      },
      "execution_count": 45,
      "outputs": [
        {
          "output_type": "stream",
          "name": "stdout",
          "text": [
            "                                   anzahl_ladepunkte  cum_percentage\n",
            "betreiber                                                           \n",
            "EnBW mobility+ AG und Co.KG                     4064            5.70\n",
            "E.ON Drive GmbH                                 2789            9.62\n",
            "EWE Go GmbH                                     1806           12.15\n",
            "Mercedes-Benz AG                                1621           14.43\n",
            "Westenergie Metering GmbH                       1514           16.55\n",
            "...                                              ...             ...\n",
            "Autohaus Müller Reudnitz GmbH                      1           99.99\n",
            "Genusshotel Wenisch GmbH & Co. KG                  1          100.00\n",
            "Geo4mation GmbH                                    1          100.00\n",
            "Gerald Bartke GmbH                                 1          100.00\n",
            "Citropart                                          1          100.00\n",
            "\n",
            "[4772 rows x 2 columns]\n"
          ]
        }
      ]
    },
    {
      "cell_type": "code",
      "source": [
        "#An idea to make the chart look better could be to clean the df, get rid of all the data after the cumulative percentage hits 100."
      ],
      "metadata": {
        "id": "uvPW3nsc95__"
      },
      "execution_count": 46,
      "outputs": []
    },
    {
      "cell_type": "code",
      "source": [
        "# Set figure and axis\n",
        "fig, ax = plt.subplots(figsize=(22,10))\n",
        "\n",
        "# Plot bars (i.e. frequencies)\n",
        "ax.bar(newdf.index, newdf[\"anzahl_ladepunkte\"])\n",
        "ax.set_title(\"Pareto Chart\")\n",
        "ax.set_xlabel(\"betreiber\")\n",
        "ax.set_ylabel(\"Sum\");\n",
        "\n",
        "# Second y axis (i.e. cumulative percentage)\n",
        "ax2 = ax.twinx()\n",
        "ax2.plot(newdf.index, newdf[\"cum_percentage\"], color=\"red\", marker=\"D\", ms=7)\n",
        "ax2.axhline(80, color=\"orange\", linestyle=\"dashed\")\n",
        "ax2.yaxis.set_major_formatter(PercentFormatter())\n",
        "ax2.set_ylabel(\"Cumulative Percentage\");"
      ],
      "metadata": {
        "colab": {
          "base_uri": "https://localhost:8080/",
          "height": 501
        },
        "id": "DTRfp-w898Hm",
        "outputId": "ef3ba533-5568-475a-b6f0-c65904e2ae90"
      },
      "execution_count": 48,
      "outputs": [
        {
          "output_type": "display_data",
          "data": {
            "text/plain": [
              "<Figure size 2200x1000 with 2 Axes>"
            ],
            "image/png": "[encoded data removed]"
          },
          "metadata": {}
        }
      ]
    },
    {
      "cell_type": "code",
      "source": [
        "#INFO 4 ----------\n",
        "\n",
        "#This was an attempt to get an overview of how the companies increase the number of stations through the years.\n",
        "#I would try to do it again but only with the 20%\n",
        "\n",
        "df.pivot_table('anzahl_ladepunkte', ['Jahr', 'betreiber'], aggfunc='sum')"
      ],
      "metadata": {
        "colab": {
          "base_uri": "https://localhost:8080/",
          "height": 450
        },
        "id": "i2Mx0Zg1ctji",
        "outputId": "ffe807ef-61cf-4361-ee61-4d2e36c06cf1"
      },
      "execution_count": null,
      "outputs": [
        {
          "output_type": "execute_result",
          "data": {
            "text/plain": [
              "                                                         anzahl_ladepunkte\n",
              "Jahr betreiber                                                            \n",
              "1992 Ladestation Berglen Öschelbronn                                     1\n",
              "2001 Strähle Galvanik GmbH                                               3\n",
              "2007 IBH GmbH                                                            1\n",
              "     Stadtwerke Ludwigslust-Grabow GmbH                                  2\n",
              "2008 EGT Energie GmbH                                                    2\n",
              "...                                                                    ...\n",
              "2023 ratioplan GmbH                                                      3\n",
              "     schutti-solar                                                       1\n",
              "     smopi®                                                              4\n",
              "     ubitricity Gesellschaft für verteilte Energiesy...                131\n",
              "     ÜZ Mainfranken eG                                                   3\n",
              "\n",
              "[7336 rows x 1 columns]"
            ],
            "text/html": [
              "\n",
              "  <div id=\"df-a68b7308-68aa-4671-bad1-d70c44456432\" class=\"colab-df-container\">\n",
              "    <div>\n",
              "<style scoped>\n",
              "    .dataframe tbody tr th:only-of-type {\n",
              "        vertical-align: middle;\n",
              "    }\n",
              "\n",
              "    .dataframe tbody tr th {\n",
              "        vertical-align: top;\n",
              "    }\n",
              "\n",
              "    .dataframe thead th {\n",
              "        text-align: right;\n",
              "    }\n",
              "</style>\n",
              "<table border=\"1\" class=\"dataframe\">\n",
              "  <thead>\n",
              "    <tr style=\"text-align: right;\">\n",
              "      <th></th>\n",
              "      <th></th>\n",
              "      <th>anzahl_ladepunkte</th>\n",
              "    </tr>\n",
              "    <tr>\n",
              "      <th>Jahr</th>\n",
              "      <th>betreiber</th>\n",
              "      <th></th>\n",
              "    </tr>\n",
              "  </thead>\n",
              "  <tbody>\n",
              "    <tr>\n",
              "      <th>1992</th>\n",
              "      <th>Ladestation Berglen Öschelbronn</th>\n",
              "      <td>1</td>\n",
              "    </tr>\n",
              "    <tr>\n",
              "      <th>2001</th>\n",
              "      <th>Strähle Galvanik GmbH</th>\n",
              "      <td>3</td>\n",
              "    </tr>\n",
              "    <tr>\n",
              "      <th rowspan=\"2\" valign=\"top\">2007</th>\n",
              "      <th>IBH GmbH</th>\n",
              "      <td>1</td>\n",
              "    </tr>\n",
              "    <tr>\n",
              "      <th>Stadtwerke Ludwigslust-Grabow GmbH</th>\n",
              "      <td>2</td>\n",
              "    </tr>\n",
              "    <tr>\n",
              "      <th>2008</th>\n",
              "      <th>EGT Energie GmbH</th>\n",
              "      <td>2</td>\n",
              "    </tr>\n",
              "    <tr>\n",
              "      <th>...</th>\n",
              "      <th>...</th>\n",
              "      <td>...</td>\n",
              "    </tr>\n",
              "    <tr>\n",
              "      <th rowspan=\"5\" valign=\"top\">2023</th>\n",
              "      <th>ratioplan GmbH</th>\n",
              "      <td>3</td>\n",
              "    </tr>\n",
              "    <tr>\n",
              "      <th>schutti-solar</th>\n",
              "      <td>1</td>\n",
              "    </tr>\n",
              "    <tr>\n",
              "      <th>smopi®</th>\n",
              "      <td>4</td>\n",
              "    </tr>\n",
              "    <tr>\n",
              "      <th>ubitricity Gesellschaft für verteilte Energiesysteme mbH</th>\n",
              "      <td>131</td>\n",
              "    </tr>\n",
              "    <tr>\n",
              "      <th>ÜZ Mainfranken eG</th>\n",
              "      <td>3</td>\n",
              "    </tr>\n",
              "  </tbody>\n",
              "</table>\n",
              "<p>7336 rows × 1 columns</p>\n",
              "</div>\n",
              "    <div class=\"colab-df-buttons\">\n",
              "\n",
              "  <div class=\"colab-df-container\">\n",
              "    <button class=\"colab-df-convert\" onclick=\"convertToInteractive('df-a68b7308-68aa-4671-bad1-d70c44456432')\"\n",
              "            title=\"Convert this dataframe to an interactive table.\"\n",
              "            style=\"display:none;\">\n",
              "\n",
              "  <svg xmlns=\"http://www.w3.org/2000/svg\" height=\"24px\" viewBox=\"0 -960 960 960\">\n",
              "    <path d=\"M120-120v-720h720v720H120Zm60-500h600v-160H180v160Zm220 220h160v-160H400v160Zm0 220h160v-160H400v160ZM180-400h160v-160H180v160Zm440 0h160v-160H620v160ZM180-180h160v-160H180v160Zm440 0h160v-160H620v160Z\"/>\n",
              "  </svg>\n",
              "    </button>\n",
              "\n",
              "  <style>\n",
              "    .colab-df-container {\n",
              "      display:flex;\n",
              "      gap: 12px;\n",
              "    }\n",
              "\n",
              "    .colab-df-convert {\n",
              "      background-color: #E8F0FE;\n",
              "      border: none;\n",
              "      border-radius: 50%;\n",
              "      cursor: pointer;\n",
              "      display: none;\n",
              "      fill: #1967D2;\n",
              "      height: 32px;\n",
              "      padding: 0 0 0 0;\n",
              "      width: 32px;\n",
              "    }\n",
              "\n",
              "    .colab-df-convert:hover {\n",
              "      background-color: #E2EBFA;\n",
              "      box-shadow: 0px 1px 2px rgba(60, 64, 67, 0.3), 0px 1px 3px 1px rgba(60, 64, 67, 0.15);\n",
              "      fill: #174EA6;\n",
              "    }\n",
              "\n",
              "    .colab-df-buttons div {\n",
              "      margin-bottom: 4px;\n",
              "    }\n",
              "\n",
              "    [theme=dark] .colab-df-convert {\n",
              "      background-color: #3B4455;\n",
              "      fill: #D2E3FC;\n",
              "    }\n",
              "\n",
              "    [theme=dark] .colab-df-convert:hover {\n",
              "      background-color: #434B5C;\n",
              "      box-shadow: 0px 1px 3px 1px rgba(0, 0, 0, 0.15);\n",
              "      filter: drop-shadow(0px 1px 2px rgba(0, 0, 0, 0.3));\n",
              "      fill: #FFFFFF;\n",
              "    }\n",
              "  </style>\n",
              "\n",
              "    <script>\n",
              "      const buttonEl =\n",
              "        document.querySelector('#df-a68b7308-68aa-4671-bad1-d70c44456432 button.colab-df-convert');\n",
              "      buttonEl.style.display =\n",
              "        google.colab.kernel.accessAllowed ? 'block' : 'none';\n",
              "\n",
              "      async function convertToInteractive(key) {\n",
              "        const element = document.querySelector('#df-a68b7308-68aa-4671-bad1-d70c44456432');\n",
              "        const dataTable =\n",
              "          await google.colab.kernel.invokeFunction('convertToInteractive',\n",
              "                                                    [key], {});\n",
              "        if (!dataTable) return;\n",
              "\n",
              "        const docLinkHtml = 'Like what you see? Visit the ' +\n",
              "          '<a target=\"_blank\" href=https://colab.research.google.com/notebooks/data_table.ipynb>data table notebook</a>'\n",
              "          + ' to learn more about interactive tables.';\n",
              "        element.innerHTML = '';\n",
              "        dataTable['output_type'] = 'display_data';\n",
              "        await google.colab.output.renderOutput(dataTable, element);\n",
              "        const docLink = document.createElement('div');\n",
              "        docLink.innerHTML = docLinkHtml;\n",
              "        element.appendChild(docLink);\n",
              "      }\n",
              "    </script>\n",
              "  </div>\n",
              "\n",
              "\n",
              "<div id=\"df-1a306662-61d5-49bf-86e9-0444cd147973\">\n",
              "  <button class=\"colab-df-quickchart\" onclick=\"quickchart('df-1a306662-61d5-49bf-86e9-0444cd147973')\"\n",
              "            title=\"Suggest charts\"\n",
              "            style=\"display:none;\">\n",
              "\n",
              "<svg xmlns=\"http://www.w3.org/2000/svg\" height=\"24px\"viewBox=\"0 0 24 24\"\n",
              "     width=\"24px\">\n",
              "    <g>\n",
              "        <path d=\"M19 3H5c-1.1 0-2 .9-2 2v14c0 1.1.9 2 2 2h14c1.1 0 2-.9 2-2V5c0-1.1-.9-2-2-2zM9 17H7v-7h2v7zm4 0h-2V7h2v10zm4 0h-2v-4h2v4z\"/>\n",
              "    </g>\n",
              "</svg>\n",
              "  </button>\n",
              "\n",
              "<style>\n",
              "  .colab-df-quickchart {\n",
              "      --bg-color: #E8F0FE;\n",
              "      --fill-color: #1967D2;\n",
              "      --hover-bg-color: #E2EBFA;\n",
              "      --hover-fill-color: #174EA6;\n",
              "      --disabled-fill-color: #AAA;\n",
              "      --disabled-bg-color: #DDD;\n",
              "  }\n",
              "\n",
              "  [theme=dark] .colab-df-quickchart {\n",
              "      --bg-color: #3B4455;\n",
              "      --fill-color: #D2E3FC;\n",
              "      --hover-bg-color: #434B5C;\n",
              "      --hover-fill-color: #FFFFFF;\n",
              "      --disabled-bg-color: #3B4455;\n",
              "      --disabled-fill-color: #666;\n",
              "  }\n",
              "\n",
              "  .colab-df-quickchart {\n",
              "    background-color: var(--bg-color);\n",
              "    border: none;\n",
              "    border-radius: 50%;\n",
              "    cursor: pointer;\n",
              "    display: none;\n",
              "    fill: var(--fill-color);\n",
              "    height: 32px;\n",
              "    padding: 0;\n",
              "    width: 32px;\n",
              "  }\n",
              "\n",
              "  .colab-df-quickchart:hover {\n",
              "    background-color: var(--hover-bg-color);\n",
              "    box-shadow: 0 1px 2px rgba(60, 64, 67, 0.3), 0 1px 3px 1px rgba(60, 64, 67, 0.15);\n",
              "    fill: var(--button-hover-fill-color);\n",
              "  }\n",
              "\n",
              "  .colab-df-quickchart-complete:disabled,\n",
              "  .colab-df-quickchart-complete:disabled:hover {\n",
              "    background-color: var(--disabled-bg-color);\n",
              "    fill: var(--disabled-fill-color);\n",
              "    box-shadow: none;\n",
              "  }\n",
              "\n",
              "  .colab-df-spinner {\n",
              "    border: 2px solid var(--fill-color);\n",
              "    border-color: transparent;\n",
              "    border-bottom-color: var(--fill-color);\n",
              "    animation:\n",
              "      spin 1s steps(1) infinite;\n",
              "  }\n",
              "\n",
              "  @keyframes spin {\n",
              "    0% {\n",
              "      border-color: transparent;\n",
              "      border-bottom-color: var(--fill-color);\n",
              "      border-left-color: var(--fill-color);\n",
              "    }\n",
              "    20% {\n",
              "      border-color: transparent;\n",
              "      border-left-color: var(--fill-color);\n",
              "      border-top-color: var(--fill-color);\n",
              "    }\n",
              "    30% {\n",
              "      border-color: transparent;\n",
              "      border-left-color: var(--fill-color);\n",
              "      border-top-color: var(--fill-color);\n",
              "      border-right-color: var(--fill-color);\n",
              "    }\n",
              "    40% {\n",
              "      border-color: transparent;\n",
              "      border-right-color: var(--fill-color);\n",
              "      border-top-color: var(--fill-color);\n",
              "    }\n",
              "    60% {\n",
              "      border-color: transparent;\n",
              "      border-right-color: var(--fill-color);\n",
              "    }\n",
              "    80% {\n",
              "      border-color: transparent;\n",
              "      border-right-color: var(--fill-color);\n",
              "      border-bottom-color: var(--fill-color);\n",
              "    }\n",
              "    90% {\n",
              "      border-color: transparent;\n",
              "      border-bottom-color: var(--fill-color);\n",
              "    }\n",
              "  }\n",
              "</style>\n",
              "\n",
              "  <script>\n",
              "    async function quickchart(key) {\n",
              "      const quickchartButtonEl =\n",
              "        document.querySelector('#' + key + ' button');\n",
              "      quickchartButtonEl.disabled = true;  // To prevent multiple clicks.\n",
              "      quickchartButtonEl.classList.add('colab-df-spinner');\n",
              "      try {\n",
              "        const charts = await google.colab.kernel.invokeFunction(\n",
              "            'suggestCharts', [key], {});\n",
              "      } catch (error) {\n",
              "        console.error('Error during call to suggestCharts:', error);\n",
              "      }\n",
              "      quickchartButtonEl.classList.remove('colab-df-spinner');\n",
              "      quickchartButtonEl.classList.add('colab-df-quickchart-complete');\n",
              "    }\n",
              "    (() => {\n",
              "      let quickchartButtonEl =\n",
              "        document.querySelector('#df-1a306662-61d5-49bf-86e9-0444cd147973 button');\n",
              "      quickchartButtonEl.style.display =\n",
              "        google.colab.kernel.accessAllowed ? 'block' : 'none';\n",
              "    })();\n",
              "  </script>\n",
              "</div>\n",
              "    </div>\n",
              "  </div>\n"
            ],
            "application/vnd.google.colaboratory.intrinsic+json": {
              "type": "dataframe",
              "summary": "{\n  \"name\": \"df\",\n  \"rows\": 7336,\n  \"fields\": [\n    {\n      \"column\": \"anzahl_ladepunkte\",\n      \"properties\": {\n        \"dtype\": \"number\",\n        \"std\": 38,\n        \"min\": 1,\n        \"max\": 1087,\n        \"num_unique_values\": 174,\n        \"samples\": [\n          498,\n          213,\n          50\n        ],\n        \"semantic_type\": \"\",\n        \"description\": \"\"\n      }\n    }\n  ]\n}"
            }
          },
          "metadata": {},
          "execution_count": 21
        }
      ]
    },
    {
      "source": [
        "from matplotlib import pyplot as plt\n",
        "_df_3['anzahl_ladepunkte'].plot(kind='line', figsize=(8, 4), title='anzahl_ladepunkte')\n",
        "plt.gca().spines[['top', 'right']].set_visible(False)"
      ],
      "cell_type": "code",
      "metadata": {
        "colab": {
          "base_uri": "https://localhost:8080/",
          "height": 412
        },
        "id": "hz-X-F6vdG4S",
        "outputId": "e32cf6a2-138a-4990-efbf-f6e98c4f61af"
      },
      "execution_count": null,
      "outputs": [
        {
          "output_type": "display_data",
          "data": {
            "text/plain": [
              "<Figure size 800x400 with 1 Axes>"
            ],
            "image/png": "[encoded data removed]"
          },
          "metadata": {}
        }
      ]
    }
  ]
}